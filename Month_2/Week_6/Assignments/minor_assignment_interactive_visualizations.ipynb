{
  "cells": [
    {
      "cell_type": "markdown",
      "metadata": {
        "id": "view-in-github",
        "colab_type": "text"
      },
      "source": [
        "<a href=\"https://colab.research.google.com/github/edianjerry/python-data-analysis-course/blob/main/Month_2/Week_6/Assignments/minor_assignment_interactive_visualizations.ipynb\" target=\"_parent\"><img src=\"https://colab.research.google.com/assets/colab-badge.svg\" alt=\"Open In Colab\"/></a>"
      ]
    },
    {
      "cell_type": "markdown",
      "metadata": {
        "id": "MXv5QvFHBraa"
      },
      "source": [
        "# Week 6 Minor Assignment: Interactive Visualization Conversion\n",
        "\n",
        "## 🎯 Assignment Overview\n",
        "\n",
        "**Due Date**: End of Wednesday class session  \n",
        "**Points**: 20 points  \n",
        "**Individual Assignment**\n",
        "\n",
        "## 📚 Learning Objectives\n",
        "\n",
        "This assignment reinforces **Wednesday's interactive visualization topics**:\n",
        "- Converting static matplotlib/seaborn charts to interactive Plotly visualizations\n",
        "- Creating engaging dashboard-style layouts\n",
        "- Implementing interactive features (hover, zoom, filters)\n",
        "- Using real business data for meaningful insights\n",
        "\n",
        "## 🏢 Business Context\n",
        "\n",
        "You work as a data analyst for Olist, Brazil's largest e-commerce marketplace. The marketing team has been using static charts in their presentations, but they want to upgrade to interactive visualizations that executives can explore during meetings.\n",
        "\n",
        "Your task is to convert existing static analysis into an interactive dashboard that tells a compelling story about Olist's business performance.\n",
        "\n",
        "## 📊 Data Source\n",
        "\n",
        "You'll connect to the Olist dataset via **Supabase PostgreSQL** to access real Brazilian e-commerce data:\n",
        "- 100K+ customer orders\n",
        "- Geographic data across Brazilian states\n",
        "- Product categories and sales performance\n",
        "- Customer satisfaction scores"
      ]
    },
    {
      "cell_type": "code",
      "execution_count": 5,
      "metadata": {
        "colab": {
          "base_uri": "https://localhost:8080/",
          "height": 69
        },
        "id": "wtx_qxSyBraj",
        "outputId": "e20a18c3-51bd-4449-c08e-713b25c8fcb5"
      },
      "outputs": [
        {
          "output_type": "display_data",
          "data": {
            "text/html": [
              "        <script type=\"text/javascript\">\n",
              "        window.PlotlyConfig = {MathJaxConfig: 'local'};\n",
              "        if (window.MathJax && window.MathJax.Hub && window.MathJax.Hub.Config) {window.MathJax.Hub.Config({SVG: {font: \"STIX-Web\"}});}\n",
              "        if (typeof require !== 'undefined') {\n",
              "        require.undef(\"plotly\");\n",
              "        requirejs.config({\n",
              "            paths: {\n",
              "                'plotly': ['https://cdn.plot.ly/plotly-2.35.2.min']\n",
              "            }\n",
              "        });\n",
              "        require(['plotly'], function(Plotly) {\n",
              "            window._Plotly = Plotly;\n",
              "        });\n",
              "        }\n",
              "        </script>\n",
              "        "
            ]
          },
          "metadata": {}
        },
        {
          "output_type": "stream",
          "name": "stdout",
          "text": [
            "📊 Interactive Visualization Assignment\n",
            "👤 Student: YOUR_FULL_NAME\n",
            "🆔 ID: YOUR_STUDENT_ID\n"
          ]
        }
      ],
      "source": [
        "# Setup and Data Loading\n",
        "import pandas as pd\n",
        "import numpy as np\n",
        "import matplotlib.pyplot as plt\n",
        "import seaborn as sns\n",
        "import plotly.express as px\n",
        "import plotly.graph_objects as go\n",
        "from plotly.subplots import make_subplots\n",
        "import plotly.offline as pyo\n",
        "import sqlalchemy\n",
        "from sqlalchemy import create_engine, text\n",
        "import warnings\n",
        "import os\n",
        "from dotenv import load_dotenv\n",
        "\n",
        "warnings.filterwarnings('ignore')\n",
        "pyo.init_notebook_mode(connected=True)\n",
        "\n",
        "# Student Information\n",
        "STUDENT_INFO = {\n",
        "    'name': 'YOUR_FULL_NAME',\n",
        "    'student_id': 'YOUR_STUDENT_ID',\n",
        "    'submission_date': 'YYYY-MM-DD'\n",
        "}\n",
        "\n",
        "print(f\"📊 Interactive Visualization Assignment\")\n",
        "print(f\"👤 Student: {STUDENT_INFO['name']}\")\n",
        "print(f\"🆔 ID: {STUDENT_INFO['student_id']}\")"
      ]
    },
    {
      "cell_type": "markdown",
      "metadata": {
        "id": "pjF8cLEEBram"
      },
      "source": [
        "## Database Connection Setup\n",
        "\n",
        "**⚠️ Important**: Create a `.env` file in your project directory with your Supabase credentials:\n",
        "\n",
        "```\n",
        "POSTGRES_HOST=your_supabase_host\n",
        "POSTGRES_PORT=6543\n",
        "POSTGRES_DATABASE=postgres\n",
        "POSTGRES_USER=your_username\n",
        "POSTGRES_PASSWORD=your_password\n",
        "```"
      ]
    },
    {
      "cell_type": "code",
      "execution_count": null,
      "metadata": {
        "id": "DLlQlPFNBran"
      },
      "outputs": [],
      "source": [
        "# Database Connection Setup\n",
        "load_dotenv()\n",
        "\n",
        "# Supabase PostgreSQL Configuration\n",
        "DATABASE_CONFIG = {\n",
        "    'host': os.getenv('POSTGRES_HOST'),\n",
        "    'port': int(os.getenv('POSTGRES_PORT', 5432)),\n",
        "    'database': os.getenv('POSTGRES_DATABASE'),\n",
        "    'user': os.getenv('POSTGRES_USER'),\n",
        "    'password': os.getenv('POSTGRES_PASSWORD')\n",
        "}\n",
        "\n",
        "# Verify configuration\n",
        "if not all([DATABASE_CONFIG['host'], DATABASE_CONFIG['user'], DATABASE_CONFIG['password']]):\n",
        "    print(\"❌ Missing database credentials. Please check your .env file.\")\n",
        "    print(\"📝 Required variables: POSTGRES_HOST, POSTGRES_USER, POSTGRES_PASSWORD\")\n",
        "else:\n",
        "    print(\"✅ Database configuration loaded successfully\")\n",
        "\n",
        "# Create database connection\n",
        "POSTGRES_URL = f\"postgresql://{DATABASE_CONFIG['user']}:{DATABASE_CONFIG['password']}@{DATABASE_CONFIG['host']}:{DATABASE_CONFIG['port']}/{DATABASE_CONFIG['database']}\"\n",
        "\n",
        "def create_db_engine():\n",
        "    \"\"\"Create database engine with error handling.\"\"\"\n",
        "    try:\n",
        "        engine = create_engine(POSTGRES_URL, pool_size=3, max_overflow=5)\n",
        "        # Test connection\n",
        "        with engine.connect() as conn:\n",
        "            conn.execute(text(\"SELECT 1\"))\n",
        "        print(\"🔗 Successfully connected to Supabase PostgreSQL\")\n",
        "        return engine\n",
        "    except Exception as e:\n",
        "        print(f\"❌ Database connection failed: {e}\")\n",
        "        return None\n",
        "\n",
        "# Create database engine\n",
        "db_engine = create_db_engine()"
      ]
    },
    {
      "cell_type": "markdown",
      "metadata": {
        "id": "exRVTHdQBrao"
      },
      "source": [
        "## Task 1: Geographic Sales Analysis (5 points)\n",
        "\n",
        "**Business Question**: \"Which Brazilian states are our top markets, and how can we visualize this for executive presentations?\"\n",
        "\n",
        "Convert a static bar chart to an interactive choropleth map showing sales by Brazilian state."
      ]
    },
    {
      "cell_type": "code",
      "execution_count": 2,
      "metadata": {
        "colab": {
          "base_uri": "https://localhost:8080/",
          "height": 211
        },
        "id": "JasG3SBSBrap",
        "outputId": "bee9504e-2ca8-4b4c-e9c6-b045e6330854"
      },
      "outputs": [
        {
          "output_type": "error",
          "ename": "NameError",
          "evalue": "name 'db_engine' is not defined",
          "traceback": [
            "\u001b[0;31m---------------------------------------------------------------------------\u001b[0m",
            "\u001b[0;31mNameError\u001b[0m                                 Traceback (most recent call last)",
            "\u001b[0;32m/tmp/ipython-input-2070386531.py\u001b[0m in \u001b[0;36m<cell line: 0>\u001b[0;34m()\u001b[0m\n\u001b[1;32m     34\u001b[0m \u001b[0;34m\u001b[0m\u001b[0m\n\u001b[1;32m     35\u001b[0m \u001b[0;31m# Load the data\u001b[0m\u001b[0;34m\u001b[0m\u001b[0;34m\u001b[0m\u001b[0m\n\u001b[0;32m---> 36\u001b[0;31m \u001b[0mgeo_sales_data\u001b[0m \u001b[0;34m=\u001b[0m \u001b[0mload_geographic_sales_data\u001b[0m\u001b[0;34m(\u001b[0m\u001b[0mdb_engine\u001b[0m\u001b[0;34m)\u001b[0m\u001b[0;34m\u001b[0m\u001b[0;34m\u001b[0m\u001b[0m\n\u001b[0m\u001b[1;32m     37\u001b[0m \u001b[0;32mif\u001b[0m \u001b[0;32mnot\u001b[0m \u001b[0mgeo_sales_data\u001b[0m\u001b[0;34m.\u001b[0m\u001b[0mempty\u001b[0m\u001b[0;34m:\u001b[0m\u001b[0;34m\u001b[0m\u001b[0;34m\u001b[0m\u001b[0m\n\u001b[1;32m     38\u001b[0m     \u001b[0mdisplay\u001b[0m\u001b[0;34m(\u001b[0m\u001b[0mgeo_sales_data\u001b[0m\u001b[0;34m.\u001b[0m\u001b[0mhead\u001b[0m\u001b[0;34m(\u001b[0m\u001b[0;34m)\u001b[0m\u001b[0;34m)\u001b[0m\u001b[0;34m\u001b[0m\u001b[0;34m\u001b[0m\u001b[0m\n",
            "\u001b[0;31mNameError\u001b[0m: name 'db_engine' is not defined"
          ]
        }
      ],
      "source": [
        "# Task 1: Load geographic sales data\n",
        "def load_geographic_sales_data(engine):\n",
        "    \"\"\"\n",
        "    Load sales data by Brazilian state from Supabase.\n",
        "    \"\"\"\n",
        "    if engine is None:\n",
        "        print(\"❌ No database connection available\")\n",
        "        return pd.DataFrame()\n",
        "\n",
        "    query = \"\"\"\n",
        "    SELECT\n",
        "        c.customer_state,\n",
        "        COUNT(DISTINCT o.order_id) as total_orders,\n",
        "        COUNT(DISTINCT c.customer_id) as unique_customers,\n",
        "        SUM(oi.price::numeric + oi.freight_value::numeric) as total_revenue,\n",
        "        AVG(oi.price::numeric) as avg_order_value\n",
        "    FROM \"olist_sales_data_set\".\"olist_customers_dataset\" c\n",
        "    INNER JOIN \"olist_sales_data_set\".\"olist_orders_dataset\" o ON c.customer_id = o.customer_id\n",
        "    INNER JOIN \"olist_sales_data_set\".\"olist_order_items_dataset\" oi ON o.order_id = oi.order_id\n",
        "    WHERE c.customer_state IS NOT NULL\n",
        "        AND o.order_status = 'delivered'\n",
        "        AND oi.price IS NOT NULL\n",
        "    GROUP BY c.customer_state\n",
        "    ORDER BY total_revenue DESC\n",
        "    \"\"\"\n",
        "\n",
        "    try:\n",
        "        df = pd.read_sql(text(query), engine)\n",
        "        print(f\"✅ Loaded {len(df)} Brazilian states with sales data\")\n",
        "        return df\n",
        "    except Exception as e:\n",
        "        print(f\"❌ Failed to load geographic data: {e}\")\n",
        "        return pd.DataFrame()\n",
        "\n",
        "# Load the data\n",
        "geo_sales_data = load_geographic_sales_data(db_engine)\n",
        "if not geo_sales_data.empty:\n",
        "    display(geo_sales_data.head())"
      ]
    },
    {
      "cell_type": "code",
      "execution_count": null,
      "metadata": {
        "id": "jfKU-SqbBrar"
      },
      "outputs": [],
      "source": [
        "# Task 1.1: Create STATIC visualization (what we want to replace)\n",
        "if not geo_sales_data.empty:\n",
        "    plt.figure(figsize=(12, 8))\n",
        "    sns.barplot(data=geo_sales_data.head(10), x='total_revenue', y='customer_state', palette='viridis')\n",
        "    plt.title('Top 10 Brazilian States by Revenue (Static Chart)', fontsize=16, fontweight='bold')\n",
        "    plt.xlabel('Total Revenue (R$)', fontsize=12)\n",
        "    plt.ylabel('State', fontsize=12)\n",
        "    plt.ticklabel_format(style='plain', axis='x')\n",
        "    plt.tight_layout()\n",
        "    plt.show()\n",
        "\n",
        "    print(\"📊 This static chart is informative but lacks interactivity...\")\n",
        "    print(\"🎯 Let's convert it to an interactive Plotly visualization!\")"
      ]
    },
    {
      "cell_type": "code",
      "execution_count": null,
      "metadata": {
        "id": "JfTULuQfBras"
      },
      "outputs": [],
      "source": [
        "# Task 1.2: Create INTERACTIVE Plotly visualization\n",
        "# TODO: Convert the static bar chart above into an interactive Plotly chart\n",
        "# Requirements:\n",
        "# 1. Use plotly.express or plotly.graph_objects\n",
        "# 2. Add hover information showing all metrics (orders, customers, revenue, AOV)\n",
        "# 3. Make the chart interactive with zoom and pan capabilities\n",
        "# 4. Include proper titles and formatting\n",
        "# 5. Use a professional color scheme\n",
        "\n",
        "if not geo_sales_data.empty:\n",
        "    # Your interactive Plotly code here\n",
        "    fig = px.bar(\n",
        "        # TODO: Complete this implementation\n",
        "        # Hint: Use geo_sales_data.head(15) for top 15 states\n",
        "        # Add hover_data parameter for additional information\n",
        "        pass\n",
        "    )\n",
        "\n",
        "    # TODO: Update layout with titles, labels, and styling\n",
        "    fig.update_layout(\n",
        "        # Add your layout updates here\n",
        "        pass\n",
        "    )\n",
        "\n",
        "    # TODO: Show the figure\n",
        "    # fig.show()"
      ]
    },
    {
      "cell_type": "markdown",
      "metadata": {
        "id": "Sf-41mqjBrat"
      },
      "source": [
        "## Task 2: Customer Satisfaction Trends (5 points)\n",
        "\n",
        "**Business Question**: \"How has customer satisfaction evolved over time, and what insights can we provide to improve the customer experience?\"\n",
        "\n",
        "Create an interactive time series showing customer satisfaction trends with the ability to filter by review scores."
      ]
    },
    {
      "cell_type": "code",
      "execution_count": null,
      "metadata": {
        "id": "u617sf28Brat"
      },
      "outputs": [],
      "source": [
        "# Task 2: Load customer satisfaction data over time\n",
        "def load_satisfaction_trends(engine):\n",
        "    \"\"\"\n",
        "    Load customer satisfaction trends by month.\n",
        "    \"\"\"\n",
        "    if engine is None:\n",
        "        return pd.DataFrame()\n",
        "\n",
        "    query = \"\"\"\n",
        "    SELECT\n",
        "        DATE_TRUNC('month', r.review_creation_date) as review_month,\n",
        "        COUNT(*) as total_reviews,\n",
        "        AVG(r.review_score::numeric) as avg_satisfaction,\n",
        "        COUNT(CASE WHEN r.review_score >= 4 THEN 1 END) as positive_reviews,\n",
        "        COUNT(CASE WHEN r.review_score <= 2 THEN 1 END) as negative_reviews,\n",
        "        ROUND(COUNT(CASE WHEN r.review_score >= 4 THEN 1 END) * 100.0 / COUNT(*), 1) as satisfaction_rate\n",
        "    FROM \"olist_sales_data_set\".\"olist_order_reviews_dataset\" r\n",
        "    WHERE r.review_creation_date IS NOT NULL\n",
        "        AND r.review_score IS NOT NULL\n",
        "        AND r.review_creation_date >= '2017-01-01'\n",
        "        AND r.review_creation_date < '2019-01-01'\n",
        "    GROUP BY DATE_TRUNC('month', r.review_creation_date)\n",
        "    ORDER BY review_month\n",
        "    \"\"\"\n",
        "\n",
        "    try:\n",
        "        df = pd.read_sql(text(query), engine)\n",
        "        df['review_month'] = pd.to_datetime(df['review_month'])\n",
        "        print(f\"✅ Loaded satisfaction trends for {len(df)} months\")\n",
        "        return df\n",
        "    except Exception as e:\n",
        "        print(f\"❌ Failed to load satisfaction data: {e}\")\n",
        "        return pd.DataFrame()\n",
        "\n",
        "satisfaction_data = load_satisfaction_trends(db_engine)\n",
        "if not satisfaction_data.empty:\n",
        "    display(satisfaction_data.head())"
      ]
    },
    {
      "cell_type": "code",
      "execution_count": null,
      "metadata": {
        "id": "4R3u72CbBrau"
      },
      "outputs": [],
      "source": [
        "# Task 2.1: Static visualization (baseline)\n",
        "if not satisfaction_data.empty:\n",
        "    fig, (ax1, ax2) = plt.subplots(2, 1, figsize=(14, 10))\n",
        "\n",
        "    # Average satisfaction over time\n",
        "    ax1.plot(satisfaction_data['review_month'], satisfaction_data['avg_satisfaction'],\n",
        "             marker='o', linewidth=2, markersize=6)\n",
        "    ax1.set_title('Average Customer Satisfaction Over Time (Static)', fontsize=14, fontweight='bold')\n",
        "    ax1.set_ylabel('Average Rating (1-5)', fontsize=12)\n",
        "    ax1.grid(True, alpha=0.3)\n",
        "    ax1.set_ylim(3.5, 4.5)\n",
        "\n",
        "    # Review volume over time\n",
        "    ax2.bar(satisfaction_data['review_month'], satisfaction_data['total_reviews'],\n",
        "            color='steelblue', alpha=0.7)\n",
        "    ax2.set_title('Review Volume Over Time', fontsize=14, fontweight='bold')\n",
        "    ax2.set_ylabel('Number of Reviews', fontsize=12)\n",
        "    ax2.set_xlabel('Month', fontsize=12)\n",
        "\n",
        "    plt.tight_layout()\n",
        "    plt.show()\n",
        "\n",
        "    print(\"📊 Static charts show the trends but don't allow exploration...\")"
      ]
    },
    {
      "cell_type": "code",
      "execution_count": null,
      "metadata": {
        "id": "68sHFkXIBrav"
      },
      "outputs": [],
      "source": [
        "# Task 2.2: Create INTERACTIVE time series with dual axes\n",
        "# TODO: Create an interactive Plotly chart showing:\n",
        "# 1. Average satisfaction score over time (line chart)\n",
        "# 2. Review volume over time (bar chart or area chart)\n",
        "# 3. Use secondary y-axis for volume\n",
        "# 4. Add hover information with detailed metrics\n",
        "# 5. Include range slider for date selection\n",
        "\n",
        "if not satisfaction_data.empty:\n",
        "    # TODO: Create subplot with secondary y-axis\n",
        "    # Hint: Use make_subplots with specs=[{\"secondary_y\": True}]\n",
        "\n",
        "    # Your code here:\n",
        "    # fig = make_subplots(...)\n",
        "\n",
        "    # TODO: Add satisfaction trend line\n",
        "    # fig.add_trace(...)\n",
        "\n",
        "    # TODO: Add review volume bars on secondary y-axis\n",
        "    # fig.add_trace(..., secondary_y=True)\n",
        "\n",
        "    # TODO: Update layout with titles, axis labels, and range slider\n",
        "    # fig.update_layout(...)\n",
        "\n",
        "    # TODO: Update y-axes labels\n",
        "    # fig.update_yaxes(...)\n",
        "\n",
        "    # fig.show()\n",
        "    pass"
      ]
    },
    {
      "cell_type": "markdown",
      "metadata": {
        "id": "86-xDbpnBrax"
      },
      "source": [
        "## Task 3: Product Category Performance Dashboard (5 points)\n",
        "\n",
        "**Business Question**: \"Which product categories drive the most revenue and have the highest customer satisfaction?\"\n",
        "\n",
        "Create an interactive scatter plot showing the relationship between revenue and satisfaction by product category."
      ]
    },
    {
      "cell_type": "code",
      "execution_count": null,
      "metadata": {
        "id": "QpALqdldBrax"
      },
      "outputs": [],
      "source": [
        "# Task 3: Load product category performance data\n",
        "def load_category_performance(engine):\n",
        "    \"\"\"\n",
        "    Load product category performance metrics.\n",
        "    \"\"\"\n",
        "    if engine is None:\n",
        "        return pd.DataFrame()\n",
        "\n",
        "    query = \"\"\"\n",
        "    SELECT\n",
        "        p.product_category_name,\n",
        "        t.product_category_name_english,\n",
        "        COUNT(DISTINCT oi.order_id) as total_orders,\n",
        "        SUM(oi.price::numeric) as total_revenue,\n",
        "        AVG(oi.price::numeric) as avg_price,\n",
        "        COUNT(DISTINCT p.product_id) as unique_products,\n",
        "        AVG(r.review_score::numeric) as avg_satisfaction,\n",
        "        COUNT(r.review_id) as total_reviews\n",
        "    FROM \"olist_sales_data_set\".\"olist_products_dataset\" p\n",
        "    INNER JOIN \"olist_sales_data_set\".\"olist_order_items_dataset\" oi ON p.product_id = oi.product_id\n",
        "    LEFT JOIN \"olist_sales_data_set\".\"olist_order_reviews_dataset\" r ON oi.order_id = r.order_id\n",
        "    LEFT JOIN \"olist_sales_data_set\".\"product_category_name_translation\" t\n",
        "        ON p.product_category_name = t.product_category_name\n",
        "    WHERE p.product_category_name IS NOT NULL\n",
        "        AND oi.price IS NOT NULL\n",
        "    GROUP BY p.product_category_name, t.product_category_name_english\n",
        "    HAVING COUNT(r.review_id) >= 100  -- Only categories with sufficient reviews\n",
        "    ORDER BY total_revenue DESC\n",
        "    \"\"\"\n",
        "\n",
        "    try:\n",
        "        df = pd.read_sql(text(query), engine)\n",
        "        # Use English names where available, otherwise use Portuguese\n",
        "        df['category_display'] = df['product_category_name_english'].fillna(df['product_category_name'])\n",
        "        print(f\"✅ Loaded {len(df)} product categories with performance data\")\n",
        "        return df\n",
        "    except Exception as e:\n",
        "        print(f\"❌ Failed to load category data: {e}\")\n",
        "        return pd.DataFrame()\n",
        "\n",
        "category_data = load_category_performance(db_engine)\n",
        "if not category_data.empty:\n",
        "    display(category_data.head())"
      ]
    },
    {
      "cell_type": "code",
      "execution_count": null,
      "metadata": {
        "id": "UDJW3sJmBray"
      },
      "outputs": [],
      "source": [
        "# Task 3.1: Static scatter plot (baseline)\n",
        "if not category_data.empty:\n",
        "    plt.figure(figsize=(12, 8))\n",
        "    scatter = plt.scatter(category_data['total_revenue'], category_data['avg_satisfaction'],\n",
        "                         s=category_data['total_orders']/10, alpha=0.6, c=category_data['avg_price'],\n",
        "                         cmap='viridis')\n",
        "    plt.xlabel('Total Revenue (R$)', fontsize=12)\n",
        "    plt.ylabel('Average Satisfaction (1-5)', fontsize=12)\n",
        "    plt.title('Product Category Performance: Revenue vs Satisfaction (Static)', fontsize=14, fontweight='bold')\n",
        "    plt.colorbar(scatter, label='Average Price (R$)')\n",
        "\n",
        "    # Add annotations for top categories\n",
        "    for i, row in category_data.head(5).iterrows():\n",
        "        plt.annotate(row['category_display'][:15],\n",
        "                    (row['total_revenue'], row['avg_satisfaction']),\n",
        "                    xytext=(5, 5), textcoords='offset points', fontsize=8)\n",
        "\n",
        "    plt.grid(True, alpha=0.3)\n",
        "    plt.tight_layout()\n",
        "    plt.show()\n",
        "\n",
        "    print(\"📊 Static scatter plot shows relationships but lacks detailed exploration...\")"
      ]
    },
    {
      "cell_type": "code",
      "execution_count": null,
      "metadata": {
        "id": "AfVF_Q29Braz"
      },
      "outputs": [],
      "source": [
        "# Task 3.2: Create INTERACTIVE scatter plot with advanced features\n",
        "# TODO: Create an interactive Plotly scatter plot with:\n",
        "# 1. Revenue on x-axis, satisfaction on y-axis\n",
        "# 2. Bubble size representing total orders\n",
        "# 3. Color representing average price\n",
        "# 4. Hover information showing all metrics\n",
        "# 5. Ability to zoom and select data points\n",
        "# 6. Professional styling and labels\n",
        "\n",
        "if not category_data.empty:\n",
        "    # TODO: Create interactive scatter plot\n",
        "    # Hint: Use px.scatter with size, color, and hover_data parameters\n",
        "\n",
        "    # Your code here:\n",
        "    # fig = px.scatter(\n",
        "    #     category_data,\n",
        "    #     x='...',\n",
        "    #     y='...',\n",
        "    #     size='...',\n",
        "    #     color='...',\n",
        "    #     hover_data=[...],\n",
        "    #     text='...',\n",
        "    #     title='...'\n",
        "    # )\n",
        "\n",
        "    # TODO: Update layout and traces\n",
        "    # fig.update_traces(...)\n",
        "    # fig.update_layout(...)\n",
        "\n",
        "    # fig.show()\n",
        "    pass"
      ]
    },
    {
      "cell_type": "markdown",
      "metadata": {
        "id": "9lbyxTFSBra0"
      },
      "source": [
        "## Task 4: Executive Dashboard Summary (5 points)\n",
        "\n",
        "**Business Question**: \"Can we create a single interactive dashboard that summarizes our key business metrics for executive presentations?\"\n",
        "\n",
        "Combine multiple visualizations into a cohesive dashboard layout using Plotly subplots."
      ]
    },
    {
      "cell_type": "code",
      "execution_count": null,
      "metadata": {
        "id": "3gdAHmIMBra0"
      },
      "outputs": [],
      "source": [
        "# Task 4: Create an executive dashboard with multiple charts\n",
        "# TODO: Create a dashboard with subplots containing:\n",
        "# 1. Top 10 states by revenue (bar chart)\n",
        "# 2. Satisfaction trend over time (line chart)\n",
        "# 3. Top product categories (horizontal bar chart)\n",
        "# 4. Revenue vs Satisfaction scatter plot\n",
        "\n",
        "if not geo_sales_data.empty and not satisfaction_data.empty and not category_data.empty:\n",
        "    # TODO: Create subplots with 2x2 grid\n",
        "    # Hint: Use make_subplots with rows=2, cols=2\n",
        "\n",
        "    # Your code here:\n",
        "    # fig = make_subplots(\n",
        "    #     rows=2, cols=2,\n",
        "    #     subplot_titles=('Top States by Revenue', 'Satisfaction Trends',\n",
        "    #                     'Top Product Categories', 'Revenue vs Satisfaction'),\n",
        "    #     specs=[[{\"type\": \"bar\"}, {\"type\": \"scatter\"}],\n",
        "    #            [{\"type\": \"bar\"}, {\"type\": \"scatter\"}]]\n",
        "    # )\n",
        "\n",
        "    # TODO: Add traces for each subplot\n",
        "    # Chart 1: Top states (row=1, col=1)\n",
        "    # Chart 2: Satisfaction trend (row=1, col=2)\n",
        "    # Chart 3: Top categories (row=2, col=1)\n",
        "    # Chart 4: Category scatter (row=2, col=2)\n",
        "\n",
        "    # TODO: Update layout with proper sizing and titles\n",
        "    # fig.update_layout(\n",
        "    #     height=800,\n",
        "    #     title_text=\"Olist E-commerce Executive Dashboard\",\n",
        "    #     title_x=0.5,\n",
        "    #     showlegend=False\n",
        "    # )\n",
        "\n",
        "    # fig.show()\n",
        "    pass"
      ]
    },
    {
      "cell_type": "markdown",
      "metadata": {
        "id": "Bn1HXY8QBra0"
      },
      "source": [
        "## 📊 Reflection and Analysis\n",
        "\n",
        "Complete the following reflection on your interactive visualizations:"
      ]
    },
    {
      "cell_type": "markdown",
      "metadata": {
        "id": "EM1p_dSuBra1"
      },
      "source": [
        "### Business Insights Summary\n",
        "\n",
        "**Based on your interactive visualizations, answer the following:**\n",
        "\n",
        "1. **Geographic Analysis**: Which Brazilian state generates the most revenue, and what percentage of total revenue does it represent?\n",
        "   \n",
        "   *Your answer here:*\n",
        "\n",
        "2. **Customer Satisfaction**: What trend do you observe in customer satisfaction over time? Are there any concerning patterns?\n",
        "   \n",
        "   *Your answer here:*\n",
        "\n",
        "3. **Product Categories**: Which product category offers the best combination of high revenue and high customer satisfaction?\n",
        "   \n",
        "   *Your answer here:*\n",
        "\n",
        "4. **Interactive Advantages**: List three specific advantages your interactive charts provide over static versions:\n",
        "   \n",
        "   - *Advantage 1:*\n",
        "   - *Advantage 2:*\n",
        "   - *Advantage 3:*\n",
        "\n",
        "### Technical Reflection\n",
        "\n",
        "5. **Plotly Features**: Which Plotly interactive features did you find most valuable for business analysis?\n",
        "   \n",
        "   *Your answer here:*\n",
        "\n",
        "6. **Dashboard Design**: How does combining multiple charts in a dashboard improve the storytelling compared to individual charts?\n",
        "   \n",
        "   *Your answer here:*"
      ]
    },
    {
      "cell_type": "code",
      "execution_count": null,
      "metadata": {
        "id": "nQLdDZE6Bra1"
      },
      "outputs": [],
      "source": [
        "# Clean up database connection\n",
        "if db_engine:\n",
        "    db_engine.dispose()\n",
        "    print(\"🔒 Database connection closed\")\n",
        "\n",
        "print(\"\\n✅ Assignment Complete!\")\n",
        "print(f\"📝 Student: {STUDENT_INFO['name']}\")\n",
        "print(f\"📅 Submission Date: {STUDENT_INFO['submission_date']}\")\n",
        "print(\"\\n📊 Summary of Completed Tasks:\")\n",
        "print(\"  ✅ Task 1: Interactive geographic visualization\")\n",
        "print(\"  ✅ Task 2: Customer satisfaction time series\")\n",
        "print(\"  ✅ Task 3: Product category performance scatter plot\")\n",
        "print(\"  ✅ Task 4: Executive dashboard with multiple charts\")\n",
        "print(\"  ✅ Business insights and reflection\")"
      ]
    },
    {
      "cell_type": "markdown",
      "metadata": {
        "id": "mIq8xM44Bra1"
      },
      "source": [
        "## 📋 Submission Checklist\n",
        "\n",
        "Before submitting, ensure you have completed:\n",
        "\n",
        "- [ ] **Student Information**: Updated name and student ID at the top\n",
        "- [ ] **Database Connection**: Successfully connected to Supabase\n",
        "- [ ] **Task 1**: Created interactive geographic sales visualization\n",
        "- [ ] **Task 2**: Built customer satisfaction time series with interactivity\n",
        "- [ ] **Task 3**: Developed product category performance scatter plot\n",
        "- [ ] **Task 4**: Combined visualizations into executive dashboard\n",
        "- [ ] **Business Insights**: Completed reflection and analysis section\n",
        "- [ ] **Code Quality**: All cells execute without errors\n",
        "- [ ] **Professional Styling**: Charts are well-formatted and business-appropriate\n",
        "\n",
        "## 🎯 Grading Rubric (20 Points Total)\n",
        "\n",
        "| Component | Excellent (4-5) | Good (3) | Satisfactory (2) | Needs Improvement (0-1) |\n",
        "|-----------|----------------|----------|------------------|------------------------|\n",
        "| **Task 1: Geographic Viz** | Interactive, professional, insightful | Good interactivity, clear | Basic conversion, limited features | Non-functional or static |\n",
        "| **Task 2: Time Series** | Advanced features, dual axes, professional | Good interactivity, clear trends | Basic time series, limited features | Poor implementation |\n",
        "| **Task 3: Scatter Plot** | Multi-dimensional, hover details, insights | Good scatter plot, some features | Basic scatter, limited interactivity | Poor visualization |\n",
        "| **Task 4: Dashboard** | Professional layout, cohesive design | Good integration, clear layout | Basic dashboard, adequate design | Poor integration |\n",
        "| **Business Insights** | Deep analysis, actionable insights | Good insights, clear thinking | Basic analysis, surface insights | Minimal or unclear analysis |\n",
        "\n",
        "**Total: ___/20 Points**\n",
        "\n",
        "---\n",
        "\n",
        "**🎉 Congratulations on completing your interactive visualization assignment! You've successfully bridged static analysis with dynamic, engaging visualizations that tell compelling business stories.**"
      ]
    },
    {
      "cell_type": "code",
      "metadata": {
        "colab": {
          "base_uri": "https://localhost:8080/"
        },
        "id": "adeb8386",
        "outputId": "653686a9-39e0-44f5-e97f-8191ecd2af52"
      },
      "source": [
        "%pip install python-dotenv"
      ],
      "execution_count": 4,
      "outputs": [
        {
          "output_type": "stream",
          "name": "stdout",
          "text": [
            "Collecting python-dotenv\n",
            "  Downloading python_dotenv-1.1.1-py3-none-any.whl.metadata (24 kB)\n",
            "Downloading python_dotenv-1.1.1-py3-none-any.whl (20 kB)\n",
            "Installing collected packages: python-dotenv\n",
            "Successfully installed python-dotenv-1.1.1\n"
          ]
        }
      ]
    }
  ],
  "metadata": {
    "kernelspec": {
      "display_name": "Python 3",
      "language": "python",
      "name": "python3"
    },
    "language_info": {
      "codemirror_mode": {
        "name": "ipython",
        "version": 3
      },
      "file_extension": ".py",
      "mimetype": "text/x-python",
      "name": "python",
      "nbconvert_exporter": "python",
      "pygments_lexer": "ipython3",
      "version": "3.8.5"
    },
    "colab": {
      "provenance": [],
      "include_colab_link": true
    }
  },
  "nbformat": 4,
  "nbformat_minor": 0
}